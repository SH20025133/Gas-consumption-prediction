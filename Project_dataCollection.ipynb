{
  "nbformat": 4,
  "nbformat_minor": 0,
  "metadata": {
    "colab": {
      "name": "Project_dataCollection.ipynb",
      "provenance": [],
      "collapsed_sections": []
    },
    "kernelspec": {
      "name": "python3",
      "display_name": "Python 3"
    },
    "language_info": {
      "name": "python"
    }
  },
  "cells": [
    {
      "cell_type": "code",
      "execution_count": 2,
      "metadata": {
        "id": "-_qg9sr-DbBU"
      },
      "outputs": [],
      "source": [
        "import json\n",
        "import pandas as pd"
      ]
    },
    {
      "cell_type": "code",
      "source": [
        "file = open(\"acndata_sessions.json\")\n",
        "data = json.load(file)"
      ],
      "metadata": {
        "id": "vhsk883jDoVd"
      },
      "execution_count": 4,
      "outputs": []
    },
    {
      "cell_type": "code",
      "source": [
        "data.keys()"
      ],
      "metadata": {
        "colab": {
          "base_uri": "https://localhost:8080/"
        },
        "id": "ipHEQYUGD31y",
        "outputId": "10f22d5c-3e7d-4e99-b4cd-ebec4841962a"
      },
      "execution_count": 5,
      "outputs": [
        {
          "output_type": "execute_result",
          "data": {
            "text/plain": [
              "dict_keys(['_meta', '_items'])"
            ]
          },
          "metadata": {},
          "execution_count": 5
        }
      ]
    },
    {
      "cell_type": "code",
      "source": [
        "len(data[\"_items\"])"
      ],
      "metadata": {
        "colab": {
          "base_uri": "https://localhost:8080/"
        },
        "id": "Umdej5J0ECo3",
        "outputId": "e081cb69-b173-4fa8-b36a-f58a03a01f58"
      },
      "execution_count": 6,
      "outputs": [
        {
          "output_type": "execute_result",
          "data": {
            "text/plain": [
              "31424"
            ]
          },
          "metadata": {},
          "execution_count": 6
        }
      ]
    },
    {
      "cell_type": "code",
      "source": [
        "# Data Fields in the dataset\n",
        "list(data[\"_items\"][0].keys())"
      ],
      "metadata": {
        "colab": {
          "base_uri": "https://localhost:8080/"
        },
        "id": "kMPy4W71EImX",
        "outputId": "47110bba-4ccd-4b39-d93e-d2f59500f00a"
      },
      "execution_count": 7,
      "outputs": [
        {
          "output_type": "execute_result",
          "data": {
            "text/plain": [
              "['_id',\n",
              " 'clusterID',\n",
              " 'connectionTime',\n",
              " 'disconnectTime',\n",
              " 'doneChargingTime',\n",
              " 'kWhDelivered',\n",
              " 'sessionID',\n",
              " 'siteID',\n",
              " 'spaceID',\n",
              " 'stationID',\n",
              " 'timezone',\n",
              " 'userID',\n",
              " 'userInputs']"
            ]
          },
          "metadata": {},
          "execution_count": 7
        }
      ]
    },
    {
      "cell_type": "code",
      "source": [
        "#uploading data to dataframe\n",
        "df = pd.DataFrame(data[\"_items\"])"
      ],
      "metadata": {
        "id": "xr-c9R9MEMCY"
      },
      "execution_count": 8,
      "outputs": []
    },
    {
      "cell_type": "code",
      "source": [
        "df.head()"
      ],
      "metadata": {
        "colab": {
          "base_uri": "https://localhost:8080/",
          "height": 444
        },
        "id": "O1Jb0UHXEpfa",
        "outputId": "4073ab66-6d24-4b27-ebb8-5d7186f218c2"
      },
      "execution_count": 9,
      "outputs": [
        {
          "output_type": "execute_result",
          "data": {
            "text/plain": [
              "                        _id clusterID                 connectionTime  \\\n",
              "0  5bc90cb9f9af8b0d7fe77cd2      0039  Wed, 25 Apr 2018 11:08:04 GMT   \n",
              "1  5bc90cb9f9af8b0d7fe77cd3      0039  Wed, 25 Apr 2018 13:45:10 GMT   \n",
              "2  5bc90cb9f9af8b0d7fe77cd4      0039  Wed, 25 Apr 2018 13:45:50 GMT   \n",
              "3  5bc90cb9f9af8b0d7fe77cd5      0039  Wed, 25 Apr 2018 14:37:06 GMT   \n",
              "4  5bc90cb9f9af8b0d7fe77cd6      0039  Wed, 25 Apr 2018 14:40:34 GMT   \n",
              "\n",
              "                  disconnectTime               doneChargingTime  kWhDelivered  \\\n",
              "0  Wed, 25 Apr 2018 13:20:10 GMT  Wed, 25 Apr 2018 13:21:10 GMT         7.932   \n",
              "1  Thu, 26 Apr 2018 00:56:16 GMT  Wed, 25 Apr 2018 16:44:15 GMT        10.013   \n",
              "2  Wed, 25 Apr 2018 23:04:45 GMT  Wed, 25 Apr 2018 14:51:44 GMT         5.257   \n",
              "3  Wed, 25 Apr 2018 23:55:34 GMT  Wed, 25 Apr 2018 16:05:22 GMT         5.177   \n",
              "4  Wed, 25 Apr 2018 23:03:12 GMT  Wed, 25 Apr 2018 17:40:30 GMT        10.119   \n",
              "\n",
              "                                sessionID siteID spaceID    stationID  \\\n",
              "0  2_39_78_362_2018-04-25 11:08:04.400812   0002  CA-496  2-39-78-362   \n",
              "1   2_39_95_27_2018-04-25 13:45:09.617470   0002  CA-319   2-39-95-27   \n",
              "2  2_39_79_380_2018-04-25 13:45:49.962001   0002  CA-489  2-39-79-380   \n",
              "3  2_39_79_379_2018-04-25 14:37:06.460772   0002  CA-327  2-39-79-379   \n",
              "4  2_39_79_381_2018-04-25 14:40:33.638896   0002  CA-490  2-39-79-381   \n",
              "\n",
              "              timezone userID userInputs  \n",
              "0  America/Los_Angeles   None       None  \n",
              "1  America/Los_Angeles   None       None  \n",
              "2  America/Los_Angeles   None       None  \n",
              "3  America/Los_Angeles   None       None  \n",
              "4  America/Los_Angeles   None       None  "
            ],
            "text/html": [
              "\n",
              "  <div id=\"df-50796492-37f4-425f-ba0a-6d2f5ac8e948\">\n",
              "    <div class=\"colab-df-container\">\n",
              "      <div>\n",
              "<style scoped>\n",
              "    .dataframe tbody tr th:only-of-type {\n",
              "        vertical-align: middle;\n",
              "    }\n",
              "\n",
              "    .dataframe tbody tr th {\n",
              "        vertical-align: top;\n",
              "    }\n",
              "\n",
              "    .dataframe thead th {\n",
              "        text-align: right;\n",
              "    }\n",
              "</style>\n",
              "<table border=\"1\" class=\"dataframe\">\n",
              "  <thead>\n",
              "    <tr style=\"text-align: right;\">\n",
              "      <th></th>\n",
              "      <th>_id</th>\n",
              "      <th>clusterID</th>\n",
              "      <th>connectionTime</th>\n",
              "      <th>disconnectTime</th>\n",
              "      <th>doneChargingTime</th>\n",
              "      <th>kWhDelivered</th>\n",
              "      <th>sessionID</th>\n",
              "      <th>siteID</th>\n",
              "      <th>spaceID</th>\n",
              "      <th>stationID</th>\n",
              "      <th>timezone</th>\n",
              "      <th>userID</th>\n",
              "      <th>userInputs</th>\n",
              "    </tr>\n",
              "  </thead>\n",
              "  <tbody>\n",
              "    <tr>\n",
              "      <th>0</th>\n",
              "      <td>5bc90cb9f9af8b0d7fe77cd2</td>\n",
              "      <td>0039</td>\n",
              "      <td>Wed, 25 Apr 2018 11:08:04 GMT</td>\n",
              "      <td>Wed, 25 Apr 2018 13:20:10 GMT</td>\n",
              "      <td>Wed, 25 Apr 2018 13:21:10 GMT</td>\n",
              "      <td>7.932</td>\n",
              "      <td>2_39_78_362_2018-04-25 11:08:04.400812</td>\n",
              "      <td>0002</td>\n",
              "      <td>CA-496</td>\n",
              "      <td>2-39-78-362</td>\n",
              "      <td>America/Los_Angeles</td>\n",
              "      <td>None</td>\n",
              "      <td>None</td>\n",
              "    </tr>\n",
              "    <tr>\n",
              "      <th>1</th>\n",
              "      <td>5bc90cb9f9af8b0d7fe77cd3</td>\n",
              "      <td>0039</td>\n",
              "      <td>Wed, 25 Apr 2018 13:45:10 GMT</td>\n",
              "      <td>Thu, 26 Apr 2018 00:56:16 GMT</td>\n",
              "      <td>Wed, 25 Apr 2018 16:44:15 GMT</td>\n",
              "      <td>10.013</td>\n",
              "      <td>2_39_95_27_2018-04-25 13:45:09.617470</td>\n",
              "      <td>0002</td>\n",
              "      <td>CA-319</td>\n",
              "      <td>2-39-95-27</td>\n",
              "      <td>America/Los_Angeles</td>\n",
              "      <td>None</td>\n",
              "      <td>None</td>\n",
              "    </tr>\n",
              "    <tr>\n",
              "      <th>2</th>\n",
              "      <td>5bc90cb9f9af8b0d7fe77cd4</td>\n",
              "      <td>0039</td>\n",
              "      <td>Wed, 25 Apr 2018 13:45:50 GMT</td>\n",
              "      <td>Wed, 25 Apr 2018 23:04:45 GMT</td>\n",
              "      <td>Wed, 25 Apr 2018 14:51:44 GMT</td>\n",
              "      <td>5.257</td>\n",
              "      <td>2_39_79_380_2018-04-25 13:45:49.962001</td>\n",
              "      <td>0002</td>\n",
              "      <td>CA-489</td>\n",
              "      <td>2-39-79-380</td>\n",
              "      <td>America/Los_Angeles</td>\n",
              "      <td>None</td>\n",
              "      <td>None</td>\n",
              "    </tr>\n",
              "    <tr>\n",
              "      <th>3</th>\n",
              "      <td>5bc90cb9f9af8b0d7fe77cd5</td>\n",
              "      <td>0039</td>\n",
              "      <td>Wed, 25 Apr 2018 14:37:06 GMT</td>\n",
              "      <td>Wed, 25 Apr 2018 23:55:34 GMT</td>\n",
              "      <td>Wed, 25 Apr 2018 16:05:22 GMT</td>\n",
              "      <td>5.177</td>\n",
              "      <td>2_39_79_379_2018-04-25 14:37:06.460772</td>\n",
              "      <td>0002</td>\n",
              "      <td>CA-327</td>\n",
              "      <td>2-39-79-379</td>\n",
              "      <td>America/Los_Angeles</td>\n",
              "      <td>None</td>\n",
              "      <td>None</td>\n",
              "    </tr>\n",
              "    <tr>\n",
              "      <th>4</th>\n",
              "      <td>5bc90cb9f9af8b0d7fe77cd6</td>\n",
              "      <td>0039</td>\n",
              "      <td>Wed, 25 Apr 2018 14:40:34 GMT</td>\n",
              "      <td>Wed, 25 Apr 2018 23:03:12 GMT</td>\n",
              "      <td>Wed, 25 Apr 2018 17:40:30 GMT</td>\n",
              "      <td>10.119</td>\n",
              "      <td>2_39_79_381_2018-04-25 14:40:33.638896</td>\n",
              "      <td>0002</td>\n",
              "      <td>CA-490</td>\n",
              "      <td>2-39-79-381</td>\n",
              "      <td>America/Los_Angeles</td>\n",
              "      <td>None</td>\n",
              "      <td>None</td>\n",
              "    </tr>\n",
              "  </tbody>\n",
              "</table>\n",
              "</div>\n",
              "      <button class=\"colab-df-convert\" onclick=\"convertToInteractive('df-50796492-37f4-425f-ba0a-6d2f5ac8e948')\"\n",
              "              title=\"Convert this dataframe to an interactive table.\"\n",
              "              style=\"display:none;\">\n",
              "        \n",
              "  <svg xmlns=\"http://www.w3.org/2000/svg\" height=\"24px\"viewBox=\"0 0 24 24\"\n",
              "       width=\"24px\">\n",
              "    <path d=\"M0 0h24v24H0V0z\" fill=\"none\"/>\n",
              "    <path d=\"M18.56 5.44l.94 2.06.94-2.06 2.06-.94-2.06-.94-.94-2.06-.94 2.06-2.06.94zm-11 1L8.5 8.5l.94-2.06 2.06-.94-2.06-.94L8.5 2.5l-.94 2.06-2.06.94zm10 10l.94 2.06.94-2.06 2.06-.94-2.06-.94-.94-2.06-.94 2.06-2.06.94z\"/><path d=\"M17.41 7.96l-1.37-1.37c-.4-.4-.92-.59-1.43-.59-.52 0-1.04.2-1.43.59L10.3 9.45l-7.72 7.72c-.78.78-.78 2.05 0 2.83L4 21.41c.39.39.9.59 1.41.59.51 0 1.02-.2 1.41-.59l7.78-7.78 2.81-2.81c.8-.78.8-2.07 0-2.86zM5.41 20L4 18.59l7.72-7.72 1.47 1.35L5.41 20z\"/>\n",
              "  </svg>\n",
              "      </button>\n",
              "      \n",
              "  <style>\n",
              "    .colab-df-container {\n",
              "      display:flex;\n",
              "      flex-wrap:wrap;\n",
              "      gap: 12px;\n",
              "    }\n",
              "\n",
              "    .colab-df-convert {\n",
              "      background-color: #E8F0FE;\n",
              "      border: none;\n",
              "      border-radius: 50%;\n",
              "      cursor: pointer;\n",
              "      display: none;\n",
              "      fill: #1967D2;\n",
              "      height: 32px;\n",
              "      padding: 0 0 0 0;\n",
              "      width: 32px;\n",
              "    }\n",
              "\n",
              "    .colab-df-convert:hover {\n",
              "      background-color: #E2EBFA;\n",
              "      box-shadow: 0px 1px 2px rgba(60, 64, 67, 0.3), 0px 1px 3px 1px rgba(60, 64, 67, 0.15);\n",
              "      fill: #174EA6;\n",
              "    }\n",
              "\n",
              "    [theme=dark] .colab-df-convert {\n",
              "      background-color: #3B4455;\n",
              "      fill: #D2E3FC;\n",
              "    }\n",
              "\n",
              "    [theme=dark] .colab-df-convert:hover {\n",
              "      background-color: #434B5C;\n",
              "      box-shadow: 0px 1px 3px 1px rgba(0, 0, 0, 0.15);\n",
              "      filter: drop-shadow(0px 1px 2px rgba(0, 0, 0, 0.3));\n",
              "      fill: #FFFFFF;\n",
              "    }\n",
              "  </style>\n",
              "\n",
              "      <script>\n",
              "        const buttonEl =\n",
              "          document.querySelector('#df-50796492-37f4-425f-ba0a-6d2f5ac8e948 button.colab-df-convert');\n",
              "        buttonEl.style.display =\n",
              "          google.colab.kernel.accessAllowed ? 'block' : 'none';\n",
              "\n",
              "        async function convertToInteractive(key) {\n",
              "          const element = document.querySelector('#df-50796492-37f4-425f-ba0a-6d2f5ac8e948');\n",
              "          const dataTable =\n",
              "            await google.colab.kernel.invokeFunction('convertToInteractive',\n",
              "                                                     [key], {});\n",
              "          if (!dataTable) return;\n",
              "\n",
              "          const docLinkHtml = 'Like what you see? Visit the ' +\n",
              "            '<a target=\"_blank\" href=https://colab.research.google.com/notebooks/data_table.ipynb>data table notebook</a>'\n",
              "            + ' to learn more about interactive tables.';\n",
              "          element.innerHTML = '';\n",
              "          dataTable['output_type'] = 'display_data';\n",
              "          await google.colab.output.renderOutput(dataTable, element);\n",
              "          const docLink = document.createElement('div');\n",
              "          docLink.innerHTML = docLinkHtml;\n",
              "          element.appendChild(docLink);\n",
              "        }\n",
              "      </script>\n",
              "    </div>\n",
              "  </div>\n",
              "  "
            ]
          },
          "metadata": {},
          "execution_count": 9
        }
      ]
    },
    {
      "cell_type": "code",
      "source": [
        "connTimes = list(df.connectionTime.values)"
      ],
      "metadata": {
        "id": "GjstITQTE-S7"
      },
      "execution_count": 10,
      "outputs": []
    },
    {
      "cell_type": "code",
      "source": [
        "# converting time data to datetime objects\n",
        "import datetime"
      ],
      "metadata": {
        "id": "NOZAqGl5Gs8E"
      },
      "execution_count": 11,
      "outputs": []
    },
    {
      "cell_type": "code",
      "source": [
        "connTimes[:10]"
      ],
      "metadata": {
        "colab": {
          "base_uri": "https://localhost:8080/"
        },
        "id": "xS8m4-VwHB8t",
        "outputId": "29a74b6f-b7bc-42b0-a3a0-624212ec46b6"
      },
      "execution_count": 12,
      "outputs": [
        {
          "output_type": "execute_result",
          "data": {
            "text/plain": [
              "['Wed, 25 Apr 2018 11:08:04 GMT',\n",
              " 'Wed, 25 Apr 2018 13:45:10 GMT',\n",
              " 'Wed, 25 Apr 2018 13:45:50 GMT',\n",
              " 'Wed, 25 Apr 2018 14:37:06 GMT',\n",
              " 'Wed, 25 Apr 2018 14:40:34 GMT',\n",
              " 'Wed, 25 Apr 2018 14:43:50 GMT',\n",
              " 'Wed, 25 Apr 2018 14:47:42 GMT',\n",
              " 'Wed, 25 Apr 2018 14:58:25 GMT',\n",
              " 'Wed, 25 Apr 2018 15:10:52 GMT',\n",
              " 'Wed, 25 Apr 2018 15:12:11 GMT']"
            ]
          },
          "metadata": {},
          "execution_count": 12
        }
      ]
    },
    {
      "cell_type": "code",
      "source": [
        "df[\"connectionTime\"] = df[\"connectionTime\"].apply(lambda dt : datetime.datetime.strptime(dt, '%a, %d %b %Y %H:%M:%S %Z'))"
      ],
      "metadata": {
        "id": "l6tVSYRlILKV"
      },
      "execution_count": 13,
      "outputs": []
    },
    {
      "cell_type": "code",
      "source": [
        "df[\"connectionTime\"].head(5)"
      ],
      "metadata": {
        "colab": {
          "base_uri": "https://localhost:8080/"
        },
        "id": "YT9ZIYzFIbkb",
        "outputId": "13e8acd0-34bb-4b2b-e1cf-47165d468447"
      },
      "execution_count": 14,
      "outputs": [
        {
          "output_type": "execute_result",
          "data": {
            "text/plain": [
              "0   2018-04-25 11:08:04\n",
              "1   2018-04-25 13:45:10\n",
              "2   2018-04-25 13:45:50\n",
              "3   2018-04-25 14:37:06\n",
              "4   2018-04-25 14:40:34\n",
              "Name: connectionTime, dtype: datetime64[ns]"
            ]
          },
          "metadata": {},
          "execution_count": 14
        }
      ]
    },
    {
      "cell_type": "code",
      "source": [
        "df[\"doneChargingTime\"] = df[\"doneChargingTime\"].apply(lambda dt : datetime.datetime.strptime(dt, '%a, %d %b %Y %H:%M:%S %Z') if dt else None)"
      ],
      "metadata": {
        "id": "Q3835sU7Ij-U"
      },
      "execution_count": 15,
      "outputs": []
    },
    {
      "cell_type": "code",
      "source": [
        "df[\"disconnectTime\"] = df[\"disconnectTime\"].apply(lambda dt : datetime.datetime.strptime(dt, '%a, %d %b %Y %H:%M:%S %Z'))"
      ],
      "metadata": {
        "id": "GjCctKgDIs9Y"
      },
      "execution_count": 16,
      "outputs": []
    },
    {
      "cell_type": "code",
      "source": [
        "df.head(10)"
      ],
      "metadata": {
        "colab": {
          "base_uri": "https://localhost:8080/",
          "height": 774
        },
        "id": "KbUcTB6aI1Vg",
        "outputId": "3026e954-6413-4478-976a-9144c0df0254"
      },
      "execution_count": 17,
      "outputs": [
        {
          "output_type": "execute_result",
          "data": {
            "text/plain": [
              "                        _id clusterID      connectionTime      disconnectTime  \\\n",
              "0  5bc90cb9f9af8b0d7fe77cd2      0039 2018-04-25 11:08:04 2018-04-25 13:20:10   \n",
              "1  5bc90cb9f9af8b0d7fe77cd3      0039 2018-04-25 13:45:10 2018-04-26 00:56:16   \n",
              "2  5bc90cb9f9af8b0d7fe77cd4      0039 2018-04-25 13:45:50 2018-04-25 23:04:45   \n",
              "3  5bc90cb9f9af8b0d7fe77cd5      0039 2018-04-25 14:37:06 2018-04-25 23:55:34   \n",
              "4  5bc90cb9f9af8b0d7fe77cd6      0039 2018-04-25 14:40:34 2018-04-25 23:03:12   \n",
              "5  5bc90cb9f9af8b0d7fe77cd7      0039 2018-04-25 14:43:50 2018-04-26 01:17:30   \n",
              "6  5bc90cb9f9af8b0d7fe77cd8      0039 2018-04-25 14:47:42 2018-04-25 18:27:51   \n",
              "7  5bc90cb9f9af8b0d7fe77cd9      0039 2018-04-25 14:58:25 2018-04-25 19:06:29   \n",
              "8  5bc90cb9f9af8b0d7fe77cda      0039 2018-04-25 15:10:52 2018-04-25 18:15:46   \n",
              "9  5bc90cb9f9af8b0d7fe77cdb      0039 2018-04-25 15:12:11 2018-04-25 18:29:21   \n",
              "\n",
              "     doneChargingTime  kWhDelivered                               sessionID  \\\n",
              "0 2018-04-25 13:21:10         7.932  2_39_78_362_2018-04-25 11:08:04.400812   \n",
              "1 2018-04-25 16:44:15        10.013   2_39_95_27_2018-04-25 13:45:09.617470   \n",
              "2 2018-04-25 14:51:44         5.257  2_39_79_380_2018-04-25 13:45:49.962001   \n",
              "3 2018-04-25 16:05:22         5.177  2_39_79_379_2018-04-25 14:37:06.460772   \n",
              "4 2018-04-25 17:40:30        10.119  2_39_79_381_2018-04-25 14:40:33.638896   \n",
              "5 2018-04-25 16:18:28         7.910  2_39_139_28_2018-04-25 14:43:49.647430   \n",
              "6 2018-04-25 18:27:42        15.294  2_39_91_441_2018-04-25 14:47:41.776352   \n",
              "7 2018-04-25 16:48:29         6.953  2_39_79_377_2018-04-25 14:58:25.255583   \n",
              "8 2018-04-25 16:07:56         2.174  2_39_79_382_2018-04-25 15:10:51.871020   \n",
              "9 2018-04-25 18:30:20         2.439  2_39_78_362_2018-04-25 15:12:10.901351   \n",
              "\n",
              "  siteID spaceID    stationID             timezone userID userInputs  \n",
              "0   0002  CA-496  2-39-78-362  America/Los_Angeles   None       None  \n",
              "1   0002  CA-319   2-39-95-27  America/Los_Angeles   None       None  \n",
              "2   0002  CA-489  2-39-79-380  America/Los_Angeles   None       None  \n",
              "3   0002  CA-327  2-39-79-379  America/Los_Angeles   None       None  \n",
              "4   0002  CA-490  2-39-79-381  America/Los_Angeles   None       None  \n",
              "5   0002  CA-303  2-39-139-28  America/Los_Angeles   None       None  \n",
              "6   0002  CA-499  2-39-91-441  America/Los_Angeles   None       None  \n",
              "7   0002  CA-325  2-39-79-377  America/Los_Angeles   None       None  \n",
              "8   0002  CA-491  2-39-79-382  America/Los_Angeles   None       None  \n",
              "9   0002  CA-496  2-39-78-362  America/Los_Angeles   None       None  "
            ],
            "text/html": [
              "\n",
              "  <div id=\"df-ba83c42e-84f7-4650-a7f6-16932bba0109\">\n",
              "    <div class=\"colab-df-container\">\n",
              "      <div>\n",
              "<style scoped>\n",
              "    .dataframe tbody tr th:only-of-type {\n",
              "        vertical-align: middle;\n",
              "    }\n",
              "\n",
              "    .dataframe tbody tr th {\n",
              "        vertical-align: top;\n",
              "    }\n",
              "\n",
              "    .dataframe thead th {\n",
              "        text-align: right;\n",
              "    }\n",
              "</style>\n",
              "<table border=\"1\" class=\"dataframe\">\n",
              "  <thead>\n",
              "    <tr style=\"text-align: right;\">\n",
              "      <th></th>\n",
              "      <th>_id</th>\n",
              "      <th>clusterID</th>\n",
              "      <th>connectionTime</th>\n",
              "      <th>disconnectTime</th>\n",
              "      <th>doneChargingTime</th>\n",
              "      <th>kWhDelivered</th>\n",
              "      <th>sessionID</th>\n",
              "      <th>siteID</th>\n",
              "      <th>spaceID</th>\n",
              "      <th>stationID</th>\n",
              "      <th>timezone</th>\n",
              "      <th>userID</th>\n",
              "      <th>userInputs</th>\n",
              "    </tr>\n",
              "  </thead>\n",
              "  <tbody>\n",
              "    <tr>\n",
              "      <th>0</th>\n",
              "      <td>5bc90cb9f9af8b0d7fe77cd2</td>\n",
              "      <td>0039</td>\n",
              "      <td>2018-04-25 11:08:04</td>\n",
              "      <td>2018-04-25 13:20:10</td>\n",
              "      <td>2018-04-25 13:21:10</td>\n",
              "      <td>7.932</td>\n",
              "      <td>2_39_78_362_2018-04-25 11:08:04.400812</td>\n",
              "      <td>0002</td>\n",
              "      <td>CA-496</td>\n",
              "      <td>2-39-78-362</td>\n",
              "      <td>America/Los_Angeles</td>\n",
              "      <td>None</td>\n",
              "      <td>None</td>\n",
              "    </tr>\n",
              "    <tr>\n",
              "      <th>1</th>\n",
              "      <td>5bc90cb9f9af8b0d7fe77cd3</td>\n",
              "      <td>0039</td>\n",
              "      <td>2018-04-25 13:45:10</td>\n",
              "      <td>2018-04-26 00:56:16</td>\n",
              "      <td>2018-04-25 16:44:15</td>\n",
              "      <td>10.013</td>\n",
              "      <td>2_39_95_27_2018-04-25 13:45:09.617470</td>\n",
              "      <td>0002</td>\n",
              "      <td>CA-319</td>\n",
              "      <td>2-39-95-27</td>\n",
              "      <td>America/Los_Angeles</td>\n",
              "      <td>None</td>\n",
              "      <td>None</td>\n",
              "    </tr>\n",
              "    <tr>\n",
              "      <th>2</th>\n",
              "      <td>5bc90cb9f9af8b0d7fe77cd4</td>\n",
              "      <td>0039</td>\n",
              "      <td>2018-04-25 13:45:50</td>\n",
              "      <td>2018-04-25 23:04:45</td>\n",
              "      <td>2018-04-25 14:51:44</td>\n",
              "      <td>5.257</td>\n",
              "      <td>2_39_79_380_2018-04-25 13:45:49.962001</td>\n",
              "      <td>0002</td>\n",
              "      <td>CA-489</td>\n",
              "      <td>2-39-79-380</td>\n",
              "      <td>America/Los_Angeles</td>\n",
              "      <td>None</td>\n",
              "      <td>None</td>\n",
              "    </tr>\n",
              "    <tr>\n",
              "      <th>3</th>\n",
              "      <td>5bc90cb9f9af8b0d7fe77cd5</td>\n",
              "      <td>0039</td>\n",
              "      <td>2018-04-25 14:37:06</td>\n",
              "      <td>2018-04-25 23:55:34</td>\n",
              "      <td>2018-04-25 16:05:22</td>\n",
              "      <td>5.177</td>\n",
              "      <td>2_39_79_379_2018-04-25 14:37:06.460772</td>\n",
              "      <td>0002</td>\n",
              "      <td>CA-327</td>\n",
              "      <td>2-39-79-379</td>\n",
              "      <td>America/Los_Angeles</td>\n",
              "      <td>None</td>\n",
              "      <td>None</td>\n",
              "    </tr>\n",
              "    <tr>\n",
              "      <th>4</th>\n",
              "      <td>5bc90cb9f9af8b0d7fe77cd6</td>\n",
              "      <td>0039</td>\n",
              "      <td>2018-04-25 14:40:34</td>\n",
              "      <td>2018-04-25 23:03:12</td>\n",
              "      <td>2018-04-25 17:40:30</td>\n",
              "      <td>10.119</td>\n",
              "      <td>2_39_79_381_2018-04-25 14:40:33.638896</td>\n",
              "      <td>0002</td>\n",
              "      <td>CA-490</td>\n",
              "      <td>2-39-79-381</td>\n",
              "      <td>America/Los_Angeles</td>\n",
              "      <td>None</td>\n",
              "      <td>None</td>\n",
              "    </tr>\n",
              "    <tr>\n",
              "      <th>5</th>\n",
              "      <td>5bc90cb9f9af8b0d7fe77cd7</td>\n",
              "      <td>0039</td>\n",
              "      <td>2018-04-25 14:43:50</td>\n",
              "      <td>2018-04-26 01:17:30</td>\n",
              "      <td>2018-04-25 16:18:28</td>\n",
              "      <td>7.910</td>\n",
              "      <td>2_39_139_28_2018-04-25 14:43:49.647430</td>\n",
              "      <td>0002</td>\n",
              "      <td>CA-303</td>\n",
              "      <td>2-39-139-28</td>\n",
              "      <td>America/Los_Angeles</td>\n",
              "      <td>None</td>\n",
              "      <td>None</td>\n",
              "    </tr>\n",
              "    <tr>\n",
              "      <th>6</th>\n",
              "      <td>5bc90cb9f9af8b0d7fe77cd8</td>\n",
              "      <td>0039</td>\n",
              "      <td>2018-04-25 14:47:42</td>\n",
              "      <td>2018-04-25 18:27:51</td>\n",
              "      <td>2018-04-25 18:27:42</td>\n",
              "      <td>15.294</td>\n",
              "      <td>2_39_91_441_2018-04-25 14:47:41.776352</td>\n",
              "      <td>0002</td>\n",
              "      <td>CA-499</td>\n",
              "      <td>2-39-91-441</td>\n",
              "      <td>America/Los_Angeles</td>\n",
              "      <td>None</td>\n",
              "      <td>None</td>\n",
              "    </tr>\n",
              "    <tr>\n",
              "      <th>7</th>\n",
              "      <td>5bc90cb9f9af8b0d7fe77cd9</td>\n",
              "      <td>0039</td>\n",
              "      <td>2018-04-25 14:58:25</td>\n",
              "      <td>2018-04-25 19:06:29</td>\n",
              "      <td>2018-04-25 16:48:29</td>\n",
              "      <td>6.953</td>\n",
              "      <td>2_39_79_377_2018-04-25 14:58:25.255583</td>\n",
              "      <td>0002</td>\n",
              "      <td>CA-325</td>\n",
              "      <td>2-39-79-377</td>\n",
              "      <td>America/Los_Angeles</td>\n",
              "      <td>None</td>\n",
              "      <td>None</td>\n",
              "    </tr>\n",
              "    <tr>\n",
              "      <th>8</th>\n",
              "      <td>5bc90cb9f9af8b0d7fe77cda</td>\n",
              "      <td>0039</td>\n",
              "      <td>2018-04-25 15:10:52</td>\n",
              "      <td>2018-04-25 18:15:46</td>\n",
              "      <td>2018-04-25 16:07:56</td>\n",
              "      <td>2.174</td>\n",
              "      <td>2_39_79_382_2018-04-25 15:10:51.871020</td>\n",
              "      <td>0002</td>\n",
              "      <td>CA-491</td>\n",
              "      <td>2-39-79-382</td>\n",
              "      <td>America/Los_Angeles</td>\n",
              "      <td>None</td>\n",
              "      <td>None</td>\n",
              "    </tr>\n",
              "    <tr>\n",
              "      <th>9</th>\n",
              "      <td>5bc90cb9f9af8b0d7fe77cdb</td>\n",
              "      <td>0039</td>\n",
              "      <td>2018-04-25 15:12:11</td>\n",
              "      <td>2018-04-25 18:29:21</td>\n",
              "      <td>2018-04-25 18:30:20</td>\n",
              "      <td>2.439</td>\n",
              "      <td>2_39_78_362_2018-04-25 15:12:10.901351</td>\n",
              "      <td>0002</td>\n",
              "      <td>CA-496</td>\n",
              "      <td>2-39-78-362</td>\n",
              "      <td>America/Los_Angeles</td>\n",
              "      <td>None</td>\n",
              "      <td>None</td>\n",
              "    </tr>\n",
              "  </tbody>\n",
              "</table>\n",
              "</div>\n",
              "      <button class=\"colab-df-convert\" onclick=\"convertToInteractive('df-ba83c42e-84f7-4650-a7f6-16932bba0109')\"\n",
              "              title=\"Convert this dataframe to an interactive table.\"\n",
              "              style=\"display:none;\">\n",
              "        \n",
              "  <svg xmlns=\"http://www.w3.org/2000/svg\" height=\"24px\"viewBox=\"0 0 24 24\"\n",
              "       width=\"24px\">\n",
              "    <path d=\"M0 0h24v24H0V0z\" fill=\"none\"/>\n",
              "    <path d=\"M18.56 5.44l.94 2.06.94-2.06 2.06-.94-2.06-.94-.94-2.06-.94 2.06-2.06.94zm-11 1L8.5 8.5l.94-2.06 2.06-.94-2.06-.94L8.5 2.5l-.94 2.06-2.06.94zm10 10l.94 2.06.94-2.06 2.06-.94-2.06-.94-.94-2.06-.94 2.06-2.06.94z\"/><path d=\"M17.41 7.96l-1.37-1.37c-.4-.4-.92-.59-1.43-.59-.52 0-1.04.2-1.43.59L10.3 9.45l-7.72 7.72c-.78.78-.78 2.05 0 2.83L4 21.41c.39.39.9.59 1.41.59.51 0 1.02-.2 1.41-.59l7.78-7.78 2.81-2.81c.8-.78.8-2.07 0-2.86zM5.41 20L4 18.59l7.72-7.72 1.47 1.35L5.41 20z\"/>\n",
              "  </svg>\n",
              "      </button>\n",
              "      \n",
              "  <style>\n",
              "    .colab-df-container {\n",
              "      display:flex;\n",
              "      flex-wrap:wrap;\n",
              "      gap: 12px;\n",
              "    }\n",
              "\n",
              "    .colab-df-convert {\n",
              "      background-color: #E8F0FE;\n",
              "      border: none;\n",
              "      border-radius: 50%;\n",
              "      cursor: pointer;\n",
              "      display: none;\n",
              "      fill: #1967D2;\n",
              "      height: 32px;\n",
              "      padding: 0 0 0 0;\n",
              "      width: 32px;\n",
              "    }\n",
              "\n",
              "    .colab-df-convert:hover {\n",
              "      background-color: #E2EBFA;\n",
              "      box-shadow: 0px 1px 2px rgba(60, 64, 67, 0.3), 0px 1px 3px 1px rgba(60, 64, 67, 0.15);\n",
              "      fill: #174EA6;\n",
              "    }\n",
              "\n",
              "    [theme=dark] .colab-df-convert {\n",
              "      background-color: #3B4455;\n",
              "      fill: #D2E3FC;\n",
              "    }\n",
              "\n",
              "    [theme=dark] .colab-df-convert:hover {\n",
              "      background-color: #434B5C;\n",
              "      box-shadow: 0px 1px 3px 1px rgba(0, 0, 0, 0.15);\n",
              "      filter: drop-shadow(0px 1px 2px rgba(0, 0, 0, 0.3));\n",
              "      fill: #FFFFFF;\n",
              "    }\n",
              "  </style>\n",
              "\n",
              "      <script>\n",
              "        const buttonEl =\n",
              "          document.querySelector('#df-ba83c42e-84f7-4650-a7f6-16932bba0109 button.colab-df-convert');\n",
              "        buttonEl.style.display =\n",
              "          google.colab.kernel.accessAllowed ? 'block' : 'none';\n",
              "\n",
              "        async function convertToInteractive(key) {\n",
              "          const element = document.querySelector('#df-ba83c42e-84f7-4650-a7f6-16932bba0109');\n",
              "          const dataTable =\n",
              "            await google.colab.kernel.invokeFunction('convertToInteractive',\n",
              "                                                     [key], {});\n",
              "          if (!dataTable) return;\n",
              "\n",
              "          const docLinkHtml = 'Like what you see? Visit the ' +\n",
              "            '<a target=\"_blank\" href=https://colab.research.google.com/notebooks/data_table.ipynb>data table notebook</a>'\n",
              "            + ' to learn more about interactive tables.';\n",
              "          element.innerHTML = '';\n",
              "          dataTable['output_type'] = 'display_data';\n",
              "          await google.colab.output.renderOutput(dataTable, element);\n",
              "          const docLink = document.createElement('div');\n",
              "          docLink.innerHTML = docLinkHtml;\n",
              "          element.appendChild(docLink);\n",
              "        }\n",
              "      </script>\n",
              "    </div>\n",
              "  </div>\n",
              "  "
            ]
          },
          "metadata": {},
          "execution_count": 17
        }
      ]
    },
    {
      "cell_type": "code",
      "source": [
        "(df[\"disconnectTime\"][0] - df[\"connectionTime\"][0]).total_seconds()"
      ],
      "metadata": {
        "colab": {
          "base_uri": "https://localhost:8080/"
        },
        "id": "28KYup3mJZSO",
        "outputId": "9495a196-cd98-4e93-db69-242517aa524a"
      },
      "execution_count": 18,
      "outputs": [
        {
          "output_type": "execute_result",
          "data": {
            "text/plain": [
              "7926.0"
            ]
          },
          "metadata": {},
          "execution_count": 18
        }
      ]
    },
    {
      "cell_type": "code",
      "source": [
        "totalConnectionTime = []\n",
        "totalChargingTime = []\n",
        "connectionTime = list(df.connectionTime)\n",
        "disconnectTime = list(df.disconnectTime)\n",
        "doneChargingTime = list(df.doneChargingTime)"
      ],
      "metadata": {
        "id": "G-b650USJulE"
      },
      "execution_count": 19,
      "outputs": []
    },
    {
      "cell_type": "code",
      "source": [
        "len(connectionTime) == len(disconnectTime) == len(doneChargingTime)"
      ],
      "metadata": {
        "colab": {
          "base_uri": "https://localhost:8080/"
        },
        "id": "ameD2pCxJys0",
        "outputId": "f5c13072-d62e-44b2-adfa-ee2e927e825e"
      },
      "execution_count": 20,
      "outputs": [
        {
          "output_type": "execute_result",
          "data": {
            "text/plain": [
              "True"
            ]
          },
          "metadata": {},
          "execution_count": 20
        }
      ]
    },
    {
      "cell_type": "code",
      "source": [
        "for cT, dT in zip(connectionTime, disconnectTime):\n",
        "    if cT and dT:\n",
        "        totalConnectionTime.append((dT - cT).total_seconds())\n",
        "    else:\n",
        "        totalConnectionTime.append(None)"
      ],
      "metadata": {
        "id": "Td91EP2eJ7Ye"
      },
      "execution_count": 21,
      "outputs": []
    },
    {
      "cell_type": "code",
      "source": [
        "len(connectionTime) == len(disconnectTime) == len(doneChargingTime) == len(totalConnectionTime)"
      ],
      "metadata": {
        "colab": {
          "base_uri": "https://localhost:8080/"
        },
        "id": "CM8BSB70KAU_",
        "outputId": "fa4a2ac0-0562-477a-bc3b-9ae8c146356e"
      },
      "execution_count": 22,
      "outputs": [
        {
          "output_type": "execute_result",
          "data": {
            "text/plain": [
              "True"
            ]
          },
          "metadata": {},
          "execution_count": 22
        }
      ]
    },
    {
      "cell_type": "code",
      "source": [
        "totalConnectionTime[:10]"
      ],
      "metadata": {
        "colab": {
          "base_uri": "https://localhost:8080/"
        },
        "id": "npgImsUlKDTR",
        "outputId": "3d5d80b8-35d1-4b56-bc18-00345e9b4633"
      },
      "execution_count": 23,
      "outputs": [
        {
          "output_type": "execute_result",
          "data": {
            "text/plain": [
              "[7926.0,\n",
              " 40266.0,\n",
              " 33535.0,\n",
              " 33508.0,\n",
              " 30158.0,\n",
              " 38020.0,\n",
              " 13209.0,\n",
              " 14884.0,\n",
              " 11094.0,\n",
              " 11830.0]"
            ]
          },
          "metadata": {},
          "execution_count": 23
        }
      ]
    },
    {
      "cell_type": "code",
      "source": [
        "for cT, dCt in zip(connectionTime, doneChargingTime):\n",
        "    if cT and dCt:\n",
        "        totalChargingTime.append((dCt - cT).total_seconds())\n",
        "    else:\n",
        "        totalChargingTime.append(None)"
      ],
      "metadata": {
        "id": "e7k5953aKICE"
      },
      "execution_count": 24,
      "outputs": []
    },
    {
      "cell_type": "code",
      "source": [
        "len(connectionTime) == len(disconnectTime) == len(doneChargingTime) == len(totalConnectionTime) == len(totalChargingTime)"
      ],
      "metadata": {
        "colab": {
          "base_uri": "https://localhost:8080/"
        },
        "id": "UmzGKAAWKrGv",
        "outputId": "a357fc31-8f5d-4c00-9b54-a47195149c7c"
      },
      "execution_count": 25,
      "outputs": [
        {
          "output_type": "execute_result",
          "data": {
            "text/plain": [
              "True"
            ]
          },
          "metadata": {},
          "execution_count": 25
        }
      ]
    },
    {
      "cell_type": "code",
      "source": [
        "totalChargingTime[:10]"
      ],
      "metadata": {
        "colab": {
          "base_uri": "https://localhost:8080/"
        },
        "id": "LKAWSX0zK2cF",
        "outputId": "fd5e29ff-56ea-4372-d3d0-2e65ed8a7d7d"
      },
      "execution_count": 26,
      "outputs": [
        {
          "output_type": "execute_result",
          "data": {
            "text/plain": [
              "[7986.0,\n",
              " 10745.0,\n",
              " 3954.0,\n",
              " 5296.0,\n",
              " 10796.0,\n",
              " 5678.0,\n",
              " 13200.0,\n",
              " 6604.0,\n",
              " 3424.0,\n",
              " 11889.0]"
            ]
          },
          "metadata": {},
          "execution_count": 26
        }
      ]
    },
    {
      "cell_type": "code",
      "source": [
        "df[\"totalChargingTime\"] = totalChargingTime"
      ],
      "metadata": {
        "id": "LooHLzRlK8DC"
      },
      "execution_count": 27,
      "outputs": []
    },
    {
      "cell_type": "code",
      "source": [
        "df[\"totalConnectionTime\"] = totalConnectionTime"
      ],
      "metadata": {
        "id": "StcUa493LEGM"
      },
      "execution_count": 28,
      "outputs": []
    },
    {
      "cell_type": "markdown",
      "source": [
        "Trying to find correlation\n"
      ],
      "metadata": {
        "id": "sZPi1VWMOUZT"
      }
    },
    {
      "cell_type": "code",
      "source": [
        "corr = df.corr(\"spearman\")"
      ],
      "metadata": {
        "id": "308CH_HtOajR"
      },
      "execution_count": 29,
      "outputs": []
    },
    {
      "cell_type": "code",
      "source": [
        "import seaborn as sns"
      ],
      "metadata": {
        "id": "bhbe4GsePf8L"
      },
      "execution_count": 30,
      "outputs": []
    },
    {
      "cell_type": "code",
      "source": [
        "cmap = cmap=sns.diverging_palette(5, 250, as_cmap=True)\n",
        "\n",
        "def magnify():\n",
        "    return [dict(selector=\"th\",\n",
        "                 props=[(\"font-size\", \"7pt\")]),\n",
        "            dict(selector=\"td\",\n",
        "                 props=[('padding', \"0em 0em\")]),\n",
        "            dict(selector=\"th:hover\",\n",
        "                 props=[(\"font-size\", \"12pt\")]),\n",
        "            dict(selector=\"tr:hover td:hover\",\n",
        "                 props=[('max-width', '200px'),\n",
        "                        ('font-size', '12pt')])\n",
        "]\n",
        "\n",
        "corr.style.background_gradient(cmap, axis=1)\\\n",
        "    .set_properties(**{'max-width': '80px', 'font-size': '10pt'})\\\n",
        "    .set_precision(2)\\\n",
        "    .set_table_styles(magnify())"
      ],
      "metadata": {
        "colab": {
          "base_uri": "https://localhost:8080/",
          "height": 156
        },
        "id": "VNmlZKo7O0pe",
        "outputId": "2a031d61-a2fe-4986-cc68-c2aa3d93612e"
      },
      "execution_count": 31,
      "outputs": [
        {
          "output_type": "stream",
          "name": "stderr",
          "text": [
            "/usr/local/lib/python3.7/dist-packages/ipykernel_launcher.py:15: FutureWarning: this method is deprecated in favour of `Styler.format(precision=..)`\n",
            "  from ipykernel import kernelapp as app\n"
          ]
        },
        {
          "output_type": "execute_result",
          "data": {
            "text/plain": [
              "<pandas.io.formats.style.Styler at 0x7fd1cf093450>"
            ],
            "text/html": [
              "<style type=\"text/css\">\n",
              "#T_8a9bb_ th {\n",
              "  font-size: 7pt;\n",
              "}\n",
              "#T_8a9bb_ td {\n",
              "  padding: 0em 0em;\n",
              "}\n",
              "#T_8a9bb_ th:hover {\n",
              "  font-size: 12pt;\n",
              "}\n",
              "#T_8a9bb_ tr:hover td:hover {\n",
              "  max-width: 200px;\n",
              "  font-size: 12pt;\n",
              "}\n",
              "#T_8a9bb_row0_col0, #T_8a9bb_row1_col1, #T_8a9bb_row2_col2 {\n",
              "  background-color: #4479bb;\n",
              "  color: #f1f1f1;\n",
              "  max-width: 80px;\n",
              "  font-size: 10pt;\n",
              "}\n",
              "#T_8a9bb_row0_col1 {\n",
              "  background-color: #d8e0eb;\n",
              "  color: #000000;\n",
              "  max-width: 80px;\n",
              "  font-size: 10pt;\n",
              "}\n",
              "#T_8a9bb_row0_col2, #T_8a9bb_row1_col2, #T_8a9bb_row2_col0 {\n",
              "  background-color: #d73c5b;\n",
              "  color: #f1f1f1;\n",
              "  max-width: 80px;\n",
              "  font-size: 10pt;\n",
              "}\n",
              "#T_8a9bb_row1_col0 {\n",
              "  background-color: #e69ead;\n",
              "  color: #000000;\n",
              "  max-width: 80px;\n",
              "  font-size: 10pt;\n",
              "}\n",
              "#T_8a9bb_row2_col1 {\n",
              "  background-color: #eed2d7;\n",
              "  color: #000000;\n",
              "  max-width: 80px;\n",
              "  font-size: 10pt;\n",
              "}\n",
              "</style>\n",
              "<table id=\"T_8a9bb_\" class=\"dataframe\">\n",
              "  <thead>\n",
              "    <tr>\n",
              "      <th class=\"blank level0\" >&nbsp;</th>\n",
              "      <th class=\"col_heading level0 col0\" >kWhDelivered</th>\n",
              "      <th class=\"col_heading level0 col1\" >totalChargingTime</th>\n",
              "      <th class=\"col_heading level0 col2\" >totalConnectionTime</th>\n",
              "    </tr>\n",
              "  </thead>\n",
              "  <tbody>\n",
              "    <tr>\n",
              "      <th id=\"T_8a9bb_level0_row0\" class=\"row_heading level0 row0\" >kWhDelivered</th>\n",
              "      <td id=\"T_8a9bb_row0_col0\" class=\"data row0 col0\" >1.00</td>\n",
              "      <td id=\"T_8a9bb_row0_col1\" class=\"data row0 col1\" >0.71</td>\n",
              "      <td id=\"T_8a9bb_row0_col2\" class=\"data row0 col2\" >0.31</td>\n",
              "    </tr>\n",
              "    <tr>\n",
              "      <th id=\"T_8a9bb_level0_row1\" class=\"row_heading level0 row1\" >totalChargingTime</th>\n",
              "      <td id=\"T_8a9bb_row1_col0\" class=\"data row1 col0\" >0.71</td>\n",
              "      <td id=\"T_8a9bb_row1_col1\" class=\"data row1 col1\" >1.00</td>\n",
              "      <td id=\"T_8a9bb_row1_col2\" class=\"data row1 col2\" >0.60</td>\n",
              "    </tr>\n",
              "    <tr>\n",
              "      <th id=\"T_8a9bb_level0_row2\" class=\"row_heading level0 row2\" >totalConnectionTime</th>\n",
              "      <td id=\"T_8a9bb_row2_col0\" class=\"data row2 col0\" >0.31</td>\n",
              "      <td id=\"T_8a9bb_row2_col1\" class=\"data row2 col1\" >0.60</td>\n",
              "      <td id=\"T_8a9bb_row2_col2\" class=\"data row2 col2\" >1.00</td>\n",
              "    </tr>\n",
              "  </tbody>\n",
              "</table>\n"
            ]
          },
          "metadata": {},
          "execution_count": 31
        }
      ]
    },
    {
      "cell_type": "code",
      "source": [
        "sns.heatmap(corr, \n",
        "        xticklabels=corr.columns,\n",
        "        yticklabels=corr.columns)"
      ],
      "metadata": {
        "colab": {
          "base_uri": "https://localhost:8080/",
          "height": 380
        },
        "id": "6-TELE4VO6vn",
        "outputId": "1f9fb17b-f5a0-404e-c56f-6e1de5042683"
      },
      "execution_count": 32,
      "outputs": [
        {
          "output_type": "execute_result",
          "data": {
            "text/plain": [
              "<matplotlib.axes._subplots.AxesSubplot at 0x7fd1b9ef8c10>"
            ]
          },
          "metadata": {},
          "execution_count": 32
        },
        {
          "output_type": "display_data",
          "data": {
            "text/plain": [
              "<Figure size 432x288 with 2 Axes>"
            ],
            "image/png": "[encoded data removed]"
          },
          "metadata": {
            "needs_background": "light"
          }
        }
      ]
    },
    {
      "cell_type": "code",
      "source": [
        "hist = (df[\"totalConnectionTime\"]/(3600) - df[\"totalChargingTime\"]/(3600)).hist(bins=50)"
      ],
      "metadata": {
        "colab": {
          "base_uri": "https://localhost:8080/",
          "height": 265
        },
        "id": "Vf4Nd5V3P1Pk",
        "outputId": "0cb1b328-15b6-4ccb-fc0f-02a5d071ff82"
      },
      "execution_count": 34,
      "outputs": [
        {
          "output_type": "display_data",
          "data": {
            "text/plain": [
              "<Figure size 432x288 with 1 Axes>"
            ],
            "image/png": "[encoded data removed]"
          },
          "metadata": {
            "needs_background": "light"
          }
        }
      ]
    },
    {
      "cell_type": "code",
      "source": [
        "extraTime = pd.DataFrame()"
      ],
      "metadata": {
        "id": "m8hmBmZnQATV"
      },
      "execution_count": 35,
      "outputs": []
    },
    {
      "cell_type": "code",
      "source": [
        "extraTime[\"time\"] = df[\"totalConnectionTime\"]/(3600) - df[\"totalChargingTime\"]/(3600)"
      ],
      "metadata": {
        "id": "k-KzIkY0f8VL"
      },
      "execution_count": 38,
      "outputs": []
    },
    {
      "cell_type": "code",
      "source": [
        "extraTime"
      ],
      "metadata": {
        "colab": {
          "base_uri": "https://localhost:8080/",
          "height": 423
        },
        "id": "EZ0eNu_ngdWe",
        "outputId": "07e05805-f9e8-4964-c9e8-159674ed1e03"
      },
      "execution_count": 39,
      "outputs": [
        {
          "output_type": "execute_result",
          "data": {
            "text/plain": [
              "           time\n",
              "0     -0.016667\n",
              "1      8.200278\n",
              "2      8.216944\n",
              "3      7.836667\n",
              "4      5.378333\n",
              "...         ...\n",
              "31419  2.734722\n",
              "31420  1.728333\n",
              "31421       NaN\n",
              "31422  1.493333\n",
              "31423       NaN\n",
              "\n",
              "[31424 rows x 1 columns]"
            ],
            "text/html": [
              "\n",
              "  <div id=\"df-08e04337-0020-432f-a77f-3a298eed9d8e\">\n",
              "    <div class=\"colab-df-container\">\n",
              "      <div>\n",
              "<style scoped>\n",
              "    .dataframe tbody tr th:only-of-type {\n",
              "        vertical-align: middle;\n",
              "    }\n",
              "\n",
              "    .dataframe tbody tr th {\n",
              "        vertical-align: top;\n",
              "    }\n",
              "\n",
              "    .dataframe thead th {\n",
              "        text-align: right;\n",
              "    }\n",
              "</style>\n",
              "<table border=\"1\" class=\"dataframe\">\n",
              "  <thead>\n",
              "    <tr style=\"text-align: right;\">\n",
              "      <th></th>\n",
              "      <th>time</th>\n",
              "    </tr>\n",
              "  </thead>\n",
              "  <tbody>\n",
              "    <tr>\n",
              "      <th>0</th>\n",
              "      <td>-0.016667</td>\n",
              "    </tr>\n",
              "    <tr>\n",
              "      <th>1</th>\n",
              "      <td>8.200278</td>\n",
              "    </tr>\n",
              "    <tr>\n",
              "      <th>2</th>\n",
              "      <td>8.216944</td>\n",
              "    </tr>\n",
              "    <tr>\n",
              "      <th>3</th>\n",
              "      <td>7.836667</td>\n",
              "    </tr>\n",
              "    <tr>\n",
              "      <th>4</th>\n",
              "      <td>5.378333</td>\n",
              "    </tr>\n",
              "    <tr>\n",
              "      <th>...</th>\n",
              "      <td>...</td>\n",
              "    </tr>\n",
              "    <tr>\n",
              "      <th>31419</th>\n",
              "      <td>2.734722</td>\n",
              "    </tr>\n",
              "    <tr>\n",
              "      <th>31420</th>\n",
              "      <td>1.728333</td>\n",
              "    </tr>\n",
              "    <tr>\n",
              "      <th>31421</th>\n",
              "      <td>NaN</td>\n",
              "    </tr>\n",
              "    <tr>\n",
              "      <th>31422</th>\n",
              "      <td>1.493333</td>\n",
              "    </tr>\n",
              "    <tr>\n",
              "      <th>31423</th>\n",
              "      <td>NaN</td>\n",
              "    </tr>\n",
              "  </tbody>\n",
              "</table>\n",
              "<p>31424 rows × 1 columns</p>\n",
              "</div>\n",
              "      <button class=\"colab-df-convert\" onclick=\"convertToInteractive('df-08e04337-0020-432f-a77f-3a298eed9d8e')\"\n",
              "              title=\"Convert this dataframe to an interactive table.\"\n",
              "              style=\"display:none;\">\n",
              "        \n",
              "  <svg xmlns=\"http://www.w3.org/2000/svg\" height=\"24px\"viewBox=\"0 0 24 24\"\n",
              "       width=\"24px\">\n",
              "    <path d=\"M0 0h24v24H0V0z\" fill=\"none\"/>\n",
              "    <path d=\"M18.56 5.44l.94 2.06.94-2.06 2.06-.94-2.06-.94-.94-2.06-.94 2.06-2.06.94zm-11 1L8.5 8.5l.94-2.06 2.06-.94-2.06-.94L8.5 2.5l-.94 2.06-2.06.94zm10 10l.94 2.06.94-2.06 2.06-.94-2.06-.94-.94-2.06-.94 2.06-2.06.94z\"/><path d=\"M17.41 7.96l-1.37-1.37c-.4-.4-.92-.59-1.43-.59-.52 0-1.04.2-1.43.59L10.3 9.45l-7.72 7.72c-.78.78-.78 2.05 0 2.83L4 21.41c.39.39.9.59 1.41.59.51 0 1.02-.2 1.41-.59l7.78-7.78 2.81-2.81c.8-.78.8-2.07 0-2.86zM5.41 20L4 18.59l7.72-7.72 1.47 1.35L5.41 20z\"/>\n",
              "  </svg>\n",
              "      </button>\n",
              "      \n",
              "  <style>\n",
              "    .colab-df-container {\n",
              "      display:flex;\n",
              "      flex-wrap:wrap;\n",
              "      gap: 12px;\n",
              "    }\n",
              "\n",
              "    .colab-df-convert {\n",
              "      background-color: #E8F0FE;\n",
              "      border: none;\n",
              "      border-radius: 50%;\n",
              "      cursor: pointer;\n",
              "      display: none;\n",
              "      fill: #1967D2;\n",
              "      height: 32px;\n",
              "      padding: 0 0 0 0;\n",
              "      width: 32px;\n",
              "    }\n",
              "\n",
              "    .colab-df-convert:hover {\n",
              "      background-color: #E2EBFA;\n",
              "      box-shadow: 0px 1px 2px rgba(60, 64, 67, 0.3), 0px 1px 3px 1px rgba(60, 64, 67, 0.15);\n",
              "      fill: #174EA6;\n",
              "    }\n",
              "\n",
              "    [theme=dark] .colab-df-convert {\n",
              "      background-color: #3B4455;\n",
              "      fill: #D2E3FC;\n",
              "    }\n",
              "\n",
              "    [theme=dark] .colab-df-convert:hover {\n",
              "      background-color: #434B5C;\n",
              "      box-shadow: 0px 1px 3px 1px rgba(0, 0, 0, 0.15);\n",
              "      filter: drop-shadow(0px 1px 2px rgba(0, 0, 0, 0.3));\n",
              "      fill: #FFFFFF;\n",
              "    }\n",
              "  </style>\n",
              "\n",
              "      <script>\n",
              "        const buttonEl =\n",
              "          document.querySelector('#df-08e04337-0020-432f-a77f-3a298eed9d8e button.colab-df-convert');\n",
              "        buttonEl.style.display =\n",
              "          google.colab.kernel.accessAllowed ? 'block' : 'none';\n",
              "\n",
              "        async function convertToInteractive(key) {\n",
              "          const element = document.querySelector('#df-08e04337-0020-432f-a77f-3a298eed9d8e');\n",
              "          const dataTable =\n",
              "            await google.colab.kernel.invokeFunction('convertToInteractive',\n",
              "                                                     [key], {});\n",
              "          if (!dataTable) return;\n",
              "\n",
              "          const docLinkHtml = 'Like what you see? Visit the ' +\n",
              "            '<a target=\"_blank\" href=https://colab.research.google.com/notebooks/data_table.ipynb>data table notebook</a>'\n",
              "            + ' to learn more about interactive tables.';\n",
              "          element.innerHTML = '';\n",
              "          dataTable['output_type'] = 'display_data';\n",
              "          await google.colab.output.renderOutput(dataTable, element);\n",
              "          const docLink = document.createElement('div');\n",
              "          docLink.innerHTML = docLinkHtml;\n",
              "          element.appendChild(docLink);\n",
              "        }\n",
              "      </script>\n",
              "    </div>\n",
              "  </div>\n",
              "  "
            ]
          },
          "metadata": {},
          "execution_count": 39
        }
      ]
    },
    {
      "cell_type": "code",
      "source": [
        "print(extraTime.boxplot(column=['time']))"
      ],
      "metadata": {
        "colab": {
          "base_uri": "https://localhost:8080/",
          "height": 282
        },
        "id": "BtBiQfxVhXMY",
        "outputId": "7fbf8bf8-eb92-48ca-ae63-0fefd6ed46ab"
      },
      "execution_count": 40,
      "outputs": [
        {
          "output_type": "stream",
          "name": "stdout",
          "text": [
            "AxesSubplot(0.125,0.125;0.775x0.755)\n"
          ]
        },
        {
          "output_type": "display_data",
          "data": {
            "text/plain": [
              "<Figure size 432x288 with 1 Axes>"
            ],
            "image/png": "[encoded data removed]"
          },
          "metadata": {
            "needs_background": "light"
          }
        }
      ]
    },
    {
      "cell_type": "code",
      "source": [
        "df.to_csv(\"caltech.csv\")"
      ],
      "metadata": {
        "id": "rQ5yR8qMhh8j"
      },
      "execution_count": 41,
      "outputs": []
    },
    {
      "cell_type": "code",
      "source": [
        ""
      ],
      "metadata": {
        "id": "5muKlWZShl5S"
      },
      "execution_count": null,
      "outputs": []
    }
  ]
}